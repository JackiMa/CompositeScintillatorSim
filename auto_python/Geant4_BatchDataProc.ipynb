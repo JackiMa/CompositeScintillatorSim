{
 "cells": [
  {
   "cell_type": "markdown",
   "metadata": {},
   "source": [
    "### 加载环境和基础设置"
   ]
  },
  {
   "cell_type": "code",
   "execution_count": null,
   "metadata": {},
   "outputs": [
    {
     "name": "stdout",
     "output_type": "stream",
     "text": [
      "RootDir:   /home/wsl2/myGeant4/CompositeScintillatorSim/auto_python/Data/RawData/\n",
      "CSVDir:    /home/wsl2/myGeant4/CompositeScintillatorSim/auto_python/Data/CSVData/\n",
      "MacDir:    /home/wsl2/myGeant4/CompositeScintillatorSim/auto_python/Data/MacLog/\n",
      "LogDir:    /home/wsl2/myGeant4/CompositeScintillatorSim/auto_python/Data/RunLog/\n",
      "Geant4 Exe: /home/wsl2/myGeant4/CompositeScintillatorSim/build/CompScintSim\n",
      "能量值将保留 2 位小数\n"
     ]
    }
   ],
   "source": [
    "#!/usr/bin/env python3\n",
    "# -*- coding: utf-8 -*-\n",
    "\n",
    "import os\n",
    "import sys\n",
    "import time\n",
    "import logging\n",
    "import glob\n",
    "import subprocess\n",
    "import pandas as pd\n",
    "import random\n",
    "import numpy as np\n",
    "from tqdm import tqdm\n",
    "from datetime import datetime\n",
    "import shutil\n",
    "\n",
    "# Import necessary classes from separate files\n",
    "from MacGenerator import EnergySpectrum, MacFileGenerator, set_energy_decimal_places\n",
    "from RootReader import RootData\n",
    "from MySim import MySim # Import the new MySim class\n",
    "\n",
    "# 切换到当前目录，并获取工作目录\n",
    "try:\n",
    "    os.chdir(sys.path[0])\n",
    "except FileNotFoundError:\n",
    "    # Handle cases where sys.path[0] might not be a valid directory (e.g., interactive environments)\n",
    "    print(f\"警告: 无法切换到目录 {sys.path[0]}, 使用当前工作目录。\")\n",
    "    pass # Continue with the current working directory\n",
    "\n",
    "current_path = os.path.abspath(os.curdir)\n",
    "# 把r'../../build' 加入到sys.path中 (确保路径正确)\n",
    "build_path = os.path.abspath(os.path.join(current_path, r'../build'))\n",
    "if build_path not in sys.path:\n",
    "    sys.path.append(build_path)\n",
    "\n",
    "# 定义相对路径\n",
    "rel_dir_root = r'./Data/RawData/'  # ROOT files directory\n",
    "rel_dir_csv  = r'./Data/CSVData/'  # CSV output directory\n",
    "rel_dir_mac  = r'./Data/MacLog/'   # MAC files directory\n",
    "rel_dir_log  = r'./Data/RunLog/'   # Simulation log directory\n",
    "rel_dir_geant4_executable = r'../build/CompScintSim' # Geant4 executable relative path\n",
    "\n",
    "# 获取绝对路径，末尾加上 '/'. 使用 os.path.normpath 确保路径格式一致\n",
    "abs_dir_root   = os.path.normpath(os.path.join(current_path, rel_dir_root)) + os.sep\n",
    "abs_dir_csv    = os.path.normpath(os.path.join(current_path, rel_dir_csv)) + os.sep\n",
    "abs_dir_mac    = os.path.normpath(os.path.join(current_path, rel_dir_mac)) + os.sep\n",
    "abs_dir_log    = os.path.normpath(os.path.join(current_path, rel_dir_log)) + os.sep\n",
    "abs_dir_geant4_executable = os.path.normpath(os.path.join(current_path, rel_dir_geant4_executable))\n",
    "\n",
    "print(\"RootDir:  \", abs_dir_root)\n",
    "print(\"CSVDir:   \", abs_dir_csv)\n",
    "print(\"MacDir:   \", abs_dir_mac)\n",
    "print(\"LogDir:   \", abs_dir_log)\n",
    "print(\"Geant4 Exe:\", abs_dir_geant4_executable)\n",
    "\n",
    "# 确保各个目录存在\n",
    "for directory in [abs_dir_root, abs_dir_csv, abs_dir_mac, abs_dir_log]:\n",
    "    os.makedirs(directory, exist_ok=True)\n",
    "\n",
    "# ---- 日志配置 ----- \n",
    "# 清除已有日志处理器，避免重复添加 \n",
    "log_formatter = logging.Formatter('%(asctime)s - %(levelname)s - %(message)s') \n",
    "log_file_handler = None # Keep track of the file handler \n",
    "\n",
    "def setup_logging(): \n",
    "    global log_file_handler \n",
    "    # Remove existing handlers attached to the root logger \n",
    "    for handler in logging.root.handlers[:]: \n",
    "        handler.close() # Close the handler before removing \n",
    "        logging.root.removeHandler(handler) \n",
    "    log_file_handler = None # Reset tracker \n",
    "\n",
    "    # 配置日志记录，日志保存在 abs_dir_log 下 \n",
    "    log_filename = os.path.join(abs_dir_log, \"0_batch_process.log\") \n",
    "    log_file_handler = logging.FileHandler(log_filename, mode='a') # Append mode \n",
    "    log_file_handler.setFormatter(log_formatter) \n",
    "\n",
    "    # Add the file handler \n",
    "    logging.root.addHandler(log_file_handler) \n",
    "\n",
    "    # Optional: Add a stream handler to also print logs to console \n",
    "    # stream_handler = logging.StreamHandler() \n",
    "    # stream_handler.setFormatter(log_formatter) \n",
    "    # logging.root.addHandler(stream_handler) \n",
    "\n",
    "    # Set logging level for the root logger \n",
    "    logging.root.setLevel(logging.INFO) \n",
    "\n",
    "    logging.info(\"=\" * 50) \n",
    "    logging.info(\"初始化批处理日志 - %s\", datetime.now().strftime(\"%Y-%m-%d %H:%M:%S\")) \n",
    "    logging.info(\"Log file: %s\", log_filename) \n",
    "\n",
    "setup_logging() # Initial setup \n",
    "\n",
    "# 全局变量，记录批处理开始前的数据目录文件列表 \n",
    "global_before_files = set(os.listdir(abs_dir_root)) \n",
    "\n",
    "# 设置能量显示小数位数 (来自 MacGenerator) \n",
    "set_energy_decimal_places(2) \n",
    "\n",
    "# ---- Geant4 运行函数 ---- \n",
    "\n",
    "def run_geant4(dir_geant4_exe, dir_mac_file, log_file_base, retries=3): \n",
    "    \"\"\" \n",
    "    运行 Geant4 模拟，并记录详细日志。 \n",
    "    - Geant4 标准输出/错误输出写入单独的模拟日志文件。 \n",
    "    - 在主批处理日志中记录模拟状态、耗时、新文件等。 \n",
    "    - 处理失败重试逻辑。 \n",
    "\n",
    "    参数: \n",
    "        dir_geant4_exe (str): Geant4 可执行文件完整路径。 \n",
    "        dir_mac_file (str): 要执行的 MAC 文件完整路径。 \n",
    "        log_file_base (str): 模拟日志文件的基础名 (不含路径和扩展名)。 \n",
    "        retries (int): 失败后的重试次数。 \n",
    "\n",
    "    返回: \n",
    "        list: 模拟成功时生成的新 ROOT 文件列表 (相对于 abs_dir_root)。失败时返回空列表。 \n",
    "    \"\"\" \n",
    "    global global_before_files \n",
    "\n",
    "    mac_filename = os.path.basename(dir_mac_file) \n",
    "    logging.info(f\"--- 开始运行 Geant4 [MAC: {mac_filename}] ---\") \n",
    "    start_time = time.time() \n",
    "\n",
    "    # 检查 Geant4 可执行文件是否存在 \n",
    "    if not os.path.isfile(dir_geant4_exe): \n",
    "        logging.error(f\"Geant4 可执行文件未找到: {dir_geant4_exe}\") \n",
    "        raise FileNotFoundError(f\"Geant4 可执行文件未找到: {dir_geant4_exe}\") \n",
    "\n",
    "    # 设置模拟特定日志文件路径 \n",
    "    simulation_log_file = os.path.join(abs_dir_log, f\"{log_file_base}.log\") \n",
    "\n",
    "    # 运行 Geant4 并将 stdout 和 stderr 重定向到模拟日志文件 \n",
    "    process = None \n",
    "    try: \n",
    "        with open(simulation_log_file, \"w\") as log_f: \n",
    "            # Use Popen for better control, especially if needing timeouts later \n",
    "            cmd = [dir_geant4_exe, \"-m\", dir_mac_file] \n",
    "            logging.info(f\"执行命令: {' '.join(cmd)}\") \n",
    "            process = subprocess.Popen(cmd, stdout=log_f, stderr=subprocess.STDOUT, cwd=os.path.dirname(dir_geant4_exe)) \n",
    "            process.wait() # Wait for the process to complete \n",
    "\n",
    "            if process.returncode != 0: \n",
    "                logging.warning(f\"Geant4 进程返回非零代码: {process.returncode}. 查看日志: {simulation_log_file}\") \n",
    "            else: \n",
    "                logging.debug(f\"Geant4 进程成功完成 (返回码 0)。\") \n",
    "\n",
    "    except FileNotFoundError: \n",
    "        logging.error(f\"命令执行失败: Geant4 可执行文件 '{dir_geant4_exe}' 或 MAC 文件 '{dir_mac_file}' 不存在或无权限。\") \n",
    "        return [] # Indicate failure \n",
    "    except Exception as e: \n",
    "        logging.error(f\"运行 Geant4 时发生未知错误: {e}\", exc_info=True) \n",
    "        if process and process.poll() is None: # Check if process is still running \n",
    "            process.terminate() # Try to terminate if hung \n",
    "        return [] # Indicate failure \n",
    "\n",
    "    elapsed_time = time.time() - start_time \n",
    "    logging.info(f\"Geant4 进程执行完毕，耗时: {elapsed_time:.2f} 秒。\") \n",
    "\n",
    "    # 检查新生成的文件 \n",
    "    after_files = set(os.listdir(abs_dir_root)) \n",
    "    new_files = list(after_files - global_before_files) \n",
    "    new_root_files = [f for f in new_files if f.endswith('.root')] \n",
    "\n",
    "    logging.info(f\"在 {abs_dir_root} 中检测到新文件: {new_files or '无'}\") \n",
    "\n",
    "    # 检查是否有指示失败的 '_t0' 文件 \n",
    "    failed_t0_files = [f for f in new_root_files if \"_t0\" in f] \n",
    "    failed = bool(failed_t0_files) \n",
    "\n",
    "    if failed: \n",
    "        logging.error(f\"模拟失败: 检测到失败标记文件 {failed_t0_files}。\") \n",
    "        # 删除所有可能相关的 *_t*.root 文件 \n",
    "        pattern = os.path.join(abs_dir_root, \"*_t*.root\") \n",
    "        deleted_count = 0 \n",
    "        for file_to_delete in glob.glob(pattern): \n",
    "            if file_to_delete in after_files: # Only delete if it's potentially from this run \n",
    "                try: \n",
    "                    os.remove(file_to_delete) \n",
    "                    logging.info(f\"删除失败的输出文件: {file_to_delete}\") \n",
    "                    deleted_count += 1 \n",
    "                except OSError as e: \n",
    "                    logging.warning(f\"无法删除文件 {file_to_delete}: {e}\") \n",
    "\n",
    "        # 更新文件列表，排除已删除的文件 \n",
    "        current_files = set(os.listdir(abs_dir_root)) \n",
    "        global_before_files = current_files # Reset before retry \n",
    "\n",
    "        if retries > 0: \n",
    "            logging.warning(f\"尝试重新运行模拟... 剩余重试次数: {retries-1}\") \n",
    "            return run_geant4(dir_geant4_exe, dir_mac_file, log_file_base, retries=retries-1) \n",
    "        else: \n",
    "            logging.error(\"模拟失败，已达到最大重试次数。\") \n",
    "            return [] # Failed after retries \n",
    "    else: \n",
    "        # 检查是否生成了预期的 ROOT 文件 (基于 MAC 文件名) \n",
    "        expected_root_basename = mac_filename.replace('.mac', '.root') \n",
    "        # Allow for potential timestamp additions if the original file existed \n",
    "        expected_root_found = any(f.startswith(mac_filename.replace('.mac', '')) and f.endswith('.root') for f in new_root_files) \n",
    "\n",
    "        if not new_root_files: \n",
    "            logging.warning(\"模拟似乎成功 (无 _t0 文件)，但未在 {abs_dir_root} 中找到新的 .root 文件。\") \n",
    "        elif not expected_root_found: \n",
    "             logging.warning(f\"模拟似乎成功，但找到的 ROOT 文件 {new_root_files} 与预期 ({expected_root_basename}) 不完全匹配。\") \n",
    "        else: \n",
    "            logging.info(f\"模拟成功！[MAC: {mac_filename}] 耗时: {elapsed_time:.2f} 秒. 新 ROOT 文件: {new_root_files}\") \n",
    "\n",
    "        # 更新全局文件列表以便下次对比 \n",
    "        global_before_files = after_files \n",
    "        return new_root_files # Return list of new root files relative to abs_dir_root \n",
    "\n",
    "# ---- 辅助函数：清理目录 ---- \n",
    "\n",
    "def clear_data_directories(): \n",
    "    \"\"\"清理并重建Data目录\"\"\" \n",
    "    logging.info(\"开始清理数据目录...\") \n",
    "    directories_to_clear = [abs_dir_root, abs_dir_csv, abs_dir_mac, abs_dir_log] \n",
    "    for directory in directories_to_clear: \n",
    "        try: \n",
    "            if os.path.exists(directory): \n",
    "                # Be cautious with rmtree! \n",
    "                if directory.rstrip(os.sep).endswith('Data'): # Basic safety check \n",
    "                    logging.warning(f\"清空并重建目录: {directory}\") \n",
    "                    # Close log file handler before deleting log directory \n",
    "                    if directory == abs_dir_log and log_file_handler: \n",
    "                        logging.info(\"关闭日志文件句柄以便删除日志目录。\") \n",
    "                        log_file_handler.close() \n",
    "                        logging.root.removeHandler(log_file_handler) \n",
    "\n",
    "                    shutil.rmtree(directory) \n",
    "                else: \n",
    "                    logging.error(f\"目录清理安全检查失败: {directory} - 跳过删除。\") \n",
    "                    continue \n",
    "\n",
    "            os.makedirs(directory, exist_ok=True) \n",
    "            logging.info(f\"已创建/确保目录存在: {directory}\") \n",
    "\n",
    "        except Exception as e: \n",
    "            logging.error(f\"清理或创建目录 {directory} 时出错: {e}\", exc_info=True) \n",
    "\n",
    "    # Re-setup logging if the log directory was cleared \n",
    "    if not logging.root.hasHandlers(): \n",
    "         print(\"重新设置日志记录...\") \n",
    "         setup_logging() \n",
    "    else: \n",
    "        logging.info(\"数据目录清理完成。\") \n",
    "\n",
    "    # Reset global file list after clearing \n",
    "    global global_before_files \n",
    "    global_before_files = set(os.listdir(abs_dir_root)) # Update after clearing \n",
    "\n",
    "# ---- 批量运行函数 ---- \n",
    "\n",
    "def run_batch_simulations(configs, batch_size): \n",
    "    \"\"\" \n",
    "    根据提供的配置列表运行批量模拟。 \n",
    "\n",
    "    参数: \n",
    "        configs (list): 包含多个模拟配置字典的列表。 \n",
    "        batch_size (int): 每个配置要运行的模拟次数。 \n",
    "    \"\"\" \n",
    "    if not isinstance(configs, list): \n",
    "        configs = [configs] # Allow single config dict \n",
    "\n",
    "    total_simulations = len(configs) * batch_size \n",
    "    logging.info(f\"--- 开始批量模拟 ---\") \n",
    "    logging.info(f\"配置数量: {len(configs)}\") \n",
    "    logging.info(f\"每个配置的运行次数 (Batch): {batch_size}\") \n",
    "    logging.info(f\"总模拟运行次数: {total_simulations}\") \n",
    "\n",
    "    global_sim_counter = 0 \n",
    "    successful_runs = 0 \n",
    "    failed_runs = 0 \n",
    "\n",
    "    with tqdm(total=total_simulations, desc=\"运行 Geant4 模拟\", unit=\"run\") as pbar: \n",
    "        for config_index, config in enumerate(configs): \n",
    "            config_name = config.get('profile', f'config_{config_index+1}') \n",
    "            logging.info(f\"==> 处理配置 {config_index + 1}/{len(configs)}: '{config_name}' ===\") \n",
    "\n",
    "            for i in range(batch_size): \n",
    "                global_sim_counter += 1 \n",
    "                run_label = f\"{config_name}_batch{i+1}_run{global_sim_counter}\" # Unique label for logs/files \n",
    "                pbar.set_description(f\"运行: {run_label}\") \n",
    "                logging.info(f\"-- 运行 {global_sim_counter}/{total_simulations} ({config_name} - Batch {i + 1}/{batch_size}) --\") \n",
    "\n",
    "                try: \n",
    "                    # 1. 创建 MySim 实例 (包含能谱生成和信息打印) \n",
    "                    # Use a dynamic profile name for each run in the batch \n",
    "                    run_profile_name = f\"{config.get('profile', 'sim')}_{datetime.now().strftime('%Y%m%d%H%M%S')}_{i+1}\" # Ensure uniqueness \n",
    "                    current_config = config.copy() # Avoid modifying original config \n",
    "                    current_config['profile'] = run_profile_name # Assign unique profile \n",
    "\n",
    "                    sim = MySim.from_config(current_config) \n",
    "                    logging.info(f\"使用 MySim 实例: {sim.get_profile()}\") \n",
    "\n",
    "                    # 2. 写入 MAC 文件 \n",
    "                    mac_file_path = sim.write_mac_file(abs_dir_mac) \n",
    "                    logging.info(f\"生成 MAC 文件: {os.path.basename(mac_file_path)}\") \n",
    "\n",
    "                    # 3. 运行 Geant4 模拟 \n",
    "                    # Use run_label for the simulation log file base name \n",
    "                    new_root_files = run_geant4(abs_dir_geant4_executable, mac_file_path, run_label) \n",
    "\n",
    "                    # 4. 处理输出的 ROOT 文件 (如果成功) \n",
    "                    if new_root_files: \n",
    "                        successful_runs += 1 \n",
    "                        logging.info(f\"Geant4 运行成功 ({run_label})，找到 {len(new_root_files)} 个新 ROOT 文件。\") \n",
    "                        for root_file_name in new_root_files: \n",
    "                            root_file_path = os.path.join(abs_dir_root, root_file_name) \n",
    "                            try: \n",
    "                                logging.info(f\"处理 ROOT 文件: {root_file_name}\") \n",
    "                                root_data = RootData(root_file_path) \n",
    "\n",
    "                                # 生成 CSV 文件名 (基于 ROOT 文件名) \n",
    "                                csv_filename_base = os.path.splitext(root_file_name)[0] \n",
    "                                csv_path = root_data.save_simulation_data(abs_dir_csv, csv_filename_base) \n",
    "                                logging.info(f\"ROOT 文件处理完成，CSV 保存至: {os.path.basename(csv_path)}\") \n",
    "\n",
    "                            except ImportError: \n",
    "                                logging.error(\"无法导入 ROOT 相关模块 (uproot?)。跳过 ROOT 文件处理。请确保已安装所需库。\") \n",
    "                                # Optionally break or skip further processing if ROOT is essential \n",
    "                                break # Stop processing ROOT files for this batch run if library is missing \n",
    "                            except FileNotFoundError: \n",
    "                                logging.error(f\"处理失败: ROOT 文件未找到 {root_file_path} (可能已被删除或移动?)\") \n",
    "                            except Exception as e: \n",
    "                                logging.error(f\"处理 ROOT 文件 {root_file_name} 时出错: {e}\", exc_info=True) \n",
    "                        # End loop processing root files for this sim run \n",
    "                    else: \n",
    "                        failed_runs += 1 \n",
    "                        logging.error(f\"Geant4 运行失败或未生成 ROOT 文件 ({run_label})。\") \n",
    "\n",
    "                except ValueError as e: \n",
    "                    failed_runs += 1 \n",
    "                    logging.error(f\"配置错误 ({run_label}): {e}\", exc_info=True) \n",
    "                    # Continue to next iteration if config is bad \n",
    "                except FileNotFoundError as e: \n",
    "                    failed_runs += 1 \n",
    "                    logging.error(f\"文件未找到错误 ({run_label}): {e}\", exc_info=True) \n",
    "                    # Consider stopping if essential files (like Geant4 exe) are missing \n",
    "                    # raise # Or re-raise the exception to stop the batch \n",
    "                except Exception as e: \n",
    "                    failed_runs += 1 \n",
    "                    logging.error(f\"模拟运行时发生未知错误 ({run_label}): {e}\", exc_info=True) \n",
    "                    # Decide whether to continue or stop based on the error \n",
    "\n",
    "                # 更新进度条 \n",
    "                pbar.update(1) \n",
    "                # Optional short sleep to prevent overwhelming system/logs \n",
    "                # time.sleep(0.1) \n",
    "            # End loop for batch runs of a single config \n",
    "        # End loop for all configs \n",
    "\n",
    "    logging.info(\"--- 批量模拟完成 ---\") \n",
    "    logging.info(f\"总运行次数: {global_sim_counter}\") \n",
    "    logging.info(f\"成功次数: {successful_runs}\") \n",
    "    logging.info(f\"失败次数: {failed_runs}\") \n",
    "    print(f\"批量模拟完成! 成功: {successful_runs}, 失败: {failed_runs}. 详情请查看日志文件。\") \n",
    "\n",
    "\n",
    "def process_all_root_files():\n",
    "    \"\"\"处理RawData目录下的所有.root文件并保存为CSV\"\"\"\n",
    "    root_files = [f for f in os.listdir(abs_dir_root) if f.endswith('.root')]\n",
    "    \n",
    "    print(f\"\\n发现{len(root_files)}个root文件，开始处理...\")\n",
    "    \n",
    "    with tqdm(total=len(root_files), desc=\"处理root文件\", unit=\"file\") as pbar:\n",
    "        for root_file_name in root_files:\n",
    "            try:\n",
    "                root_file_path = os.path.join(abs_dir_root, root_file_name)\n",
    "                root_data = RootData(root_file_path)\n",
    "                \n",
    "                # 生成CSV文件名（基于root文件名和时间戳）\n",
    "                base_name = os.path.splitext(root_file_name)[0]\n",
    "                csv_filename = f\"{base_name}\"\n",
    "                \n",
    "                # 保存CSV文件\n",
    "                csv_path = root_data.save_simulation_data(abs_dir_csv, csv_filename)\n",
    "                logging.info(f\"处理完成: {root_file_path} -> {csv_path}\")\n",
    "            \n",
    "            except Exception as e:\n",
    "                logging.error(f\"处理文件 {root_file_name} 时出错: {str(e)}\")\n",
    "            \n",
    "            pbar.update(1)\n",
    "    \n",
    "    print(f\"完成处理所有root文件！\")"
   ]
  },
  {
   "cell_type": "markdown",
   "metadata": {},
   "source": [
    "### 示例：运行批量模拟 (新配置模式)"
   ]
  },
  {
   "cell_type": "code",
   "execution_count": 2,
   "metadata": {},
   "outputs": [
    {
     "name": "stderr",
     "output_type": "stream",
     "text": [
      "运行: electron_range_sim_batch1_run1:   0%|          | 0/8 [00:00<?, ?run/s]"
     ]
    },
    {
     "name": "stdout",
     "output_type": "stream",
     "text": [
      "警告: num_events (20) 少于推荐值100，可能影响多线程效率。\n",
      "配置 'electron_range_sim_20250405170724_1':\n",
      "  模式: range\n",
      "  每个事件 (event) 包含的总粒子数: 98\n",
      "  模拟事件数 (num_events/beamOn): 20\n",
      "  总模拟粒子数 (total particles): 1960\n",
      "  能谱详情:\n",
      "  - 类型: e-, 能量: 0.1 MeV, 权重: 14 (对应计数: 14)\n",
      "  - 类型: e-, 能量: 0.3 MeV, 权重: 14 (对应计数: 14)\n",
      "  - 类型: e-, 能量: 0.5 MeV, 权重: 9 (对应计数: 9)\n",
      "  - 类型: e-, 能量: 0.7 MeV, 权重: 6 (对应计数: 6)\n",
      "  - 类型: e-, 能量: 0.9 MeV, 权重: 6 (对应计数: 6)\n",
      "  - 类型: e-, 能量: 1.1 MeV, 权重: 5 (对应计数: 5)\n",
      "  - 类型: e-, 能量: 1.3 MeV, 权重: 12 (对应计数: 12)\n",
      "  - 类型: e-, 能量: 1.5 MeV, 权重: 9 (对应计数: 9)\n",
      "  - 类型: e-, 能量: 1.7 MeV, 权重: 14 (对应计数: 14)\n",
      "  - 类型: e-, 能量: 1.9 MeV, 权重: 7 (对应计数: 7)\n",
      "  - 类型: proton, 能量: 6.0 MeV, 权重: 1 (对应计数: 1)\n",
      "  - 类型: proton, 能量: 8.0 MeV, 权重: 1 (对应计数: 1)\n"
     ]
    },
    {
     "name": "stderr",
     "output_type": "stream",
     "text": [
      "运行: electron_range_sim_batch2_run2:  12%|█▎        | 1/8 [00:02<00:15,  2.22s/run]"
     ]
    },
    {
     "name": "stdout",
     "output_type": "stream",
     "text": [
      "警告: num_events (20) 少于推荐值100，可能影响多线程效率。\n",
      "配置 'electron_range_sim_20250405170727_2':\n",
      "  模式: range\n",
      "  每个事件 (event) 包含的总粒子数: 107\n",
      "  模拟事件数 (num_events/beamOn): 20\n",
      "  总模拟粒子数 (total particles): 2140\n",
      "  能谱详情:\n",
      "  - 类型: e-, 能量: 0.1 MeV, 权重: 13 (对应计数: 13)\n",
      "  - 类型: e-, 能量: 0.3 MeV, 权重: 11 (对应计数: 11)\n",
      "  - 类型: e-, 能量: 0.5 MeV, 权重: 13 (对应计数: 13)\n",
      "  - 类型: e-, 能量: 0.7 MeV, 权重: 11 (对应计数: 11)\n",
      "  - 类型: e-, 能量: 0.9 MeV, 权重: 7 (对应计数: 7)\n",
      "  - 类型: e-, 能量: 1.1 MeV, 权重: 14 (对应计数: 14)\n",
      "  - 类型: e-, 能量: 1.3 MeV, 权重: 6 (对应计数: 6)\n",
      "  - 类型: e-, 能量: 1.5 MeV, 权重: 11 (对应计数: 11)\n",
      "  - 类型: e-, 能量: 1.7 MeV, 权重: 6 (对应计数: 6)\n",
      "  - 类型: e-, 能量: 1.9 MeV, 权重: 13 (对应计数: 13)\n",
      "  - 类型: proton, 能量: 8.0 MeV, 权重: 1 (对应计数: 1)\n",
      "  - 类型: proton, 能量: 9.0 MeV, 权重: 1 (对应计数: 1)\n"
     ]
    },
    {
     "name": "stderr",
     "output_type": "stream",
     "text": [
      "运行: proton_weighted_sim_batch1_run3:  25%|██▌       | 2/8 [00:04<00:11,  1.99s/run]"
     ]
    },
    {
     "name": "stdout",
     "output_type": "stream",
     "text": [
      "配置 'proton_weighted_sim_20250405170728_1':\n",
      "  模式: weighted\n",
      "  每个事件 (event) 包含的总粒子数: 700\n",
      "  模拟事件数 (num_events/beamOn): 500\n",
      "  总模拟粒子数 (total particles): 350000\n",
      "  能谱详情:\n",
      "  - 类型: e-, 能量: 0.5 MeV, 权重: 8 (对应计数: 400)\n",
      "  - 类型: e-, 能量: 1.0 MeV, 权重: 2.0 (对应计数: 100)\n",
      "  - 类型: e-, 能量: 1.5 MeV, 权重: 1.0 (对应计数: 50)\n",
      "  - 类型: e-, 能量: 2.0 MeV, 权重: 3 (对应计数: 150)\n"
     ]
    },
    {
     "name": "stderr",
     "output_type": "stream",
     "text": [
      "运行: proton_weighted_sim_batch2_run4:  38%|███▊      | 3/8 [00:05<00:09,  1.93s/run]"
     ]
    },
    {
     "name": "stdout",
     "output_type": "stream",
     "text": [
      "配置 'proton_weighted_sim_20250405170730_2':\n",
      "  模式: weighted\n",
      "  每个事件 (event) 包含的总粒子数: 700\n",
      "  模拟事件数 (num_events/beamOn): 500\n",
      "  总模拟粒子数 (total particles): 350000\n",
      "  能谱详情:\n",
      "  - 类型: e-, 能量: 0.5 MeV, 权重: 8 (对应计数: 400)\n",
      "  - 类型: e-, 能量: 1.0 MeV, 权重: 2.0 (对应计数: 100)\n",
      "  - 类型: e-, 能量: 1.5 MeV, 权重: 1.0 (对应计数: 50)\n",
      "  - 类型: e-, 能量: 2.0 MeV, 权重: 3 (对应计数: 150)\n"
     ]
    },
    {
     "name": "stderr",
     "output_type": "stream",
     "text": [
      "运行: single_gamma_1MeV_batch1_run5:  50%|█████     | 4/8 [00:07<00:07,  1.91s/run]  "
     ]
    },
    {
     "name": "stdout",
     "output_type": "stream",
     "text": [
      "配置 'single_gamma_1MeV_20250405170732_1':\n",
      "  模式: single\n",
      "  每个事件 (event) 包含的总粒子数: 1\n",
      "  模拟事件数 (num_events/beamOn): 1000\n",
      "  总模拟粒子数 (total particles): 1000\n",
      "  能谱详情:\n",
      "  - 类型: gamma, 能量: 1.0 MeV, 权重: 1 (对应计数: 1)\n"
     ]
    },
    {
     "name": "stderr",
     "output_type": "stream",
     "text": [
      "运行: single_gamma_1MeV_batch2_run6:  62%|██████▎   | 5/8 [00:09<00:05,  1.89s/run]"
     ]
    },
    {
     "name": "stdout",
     "output_type": "stream",
     "text": [
      "配置 'single_gamma_1MeV_20250405170734_2':\n",
      "  模式: single\n",
      "  每个事件 (event) 包含的总粒子数: 1\n",
      "  模拟事件数 (num_events/beamOn): 1000\n",
      "  总模拟粒子数 (total particles): 1000\n",
      "  能谱详情:\n",
      "  - 类型: gamma, 能量: 1.0 MeV, 权重: 1 (对应计数: 1)\n"
     ]
    },
    {
     "name": "stderr",
     "output_type": "stream",
     "text": [
      "运行: legacy_random_test_batch1_run7:  75%|███████▌  | 6/8 [00:11<00:03,  1.87s/run]"
     ]
    },
    {
     "name": "stdout",
     "output_type": "stream",
     "text": [
      "警告: num_events (50) 少于推荐值100，可能影响多线程效率。\n",
      "配置 'legacy_random_test_20250405170736_1':\n",
      "  模式: random\n",
      "  每个事件 (event) 包含的总粒子数: 82\n",
      "  模拟事件数 (num_events/beamOn): 50\n",
      "  总模拟粒子数 (total particles): 4100\n",
      "  能谱详情:\n",
      "  - 类型: e-, 能量: 0.5 MeV, 权重: 11 (对应计数: 11)\n",
      "  - 类型: e-, 能量: 2.5 MeV, 权重: 23 (对应计数: 23)\n",
      "  - 类型: e-, 能量: 2.6 MeV, 权重: 21 (对应计数: 21)\n",
      "  - 类型: proton, 能量: 13.9 MeV, 权重: 12 (对应计数: 12)\n",
      "  - 类型: proton, 能量: 17.4 MeV, 权重: 15 (对应计数: 15)\n"
     ]
    },
    {
     "name": "stderr",
     "output_type": "stream",
     "text": [
      "运行: legacy_random_test_batch2_run8:  88%|████████▊ | 7/8 [00:13<00:01,  1.89s/run]"
     ]
    },
    {
     "name": "stdout",
     "output_type": "stream",
     "text": [
      "警告: num_events (50) 少于推荐值100，可能影响多线程效率。\n",
      "配置 'legacy_random_test_20250405170738_2':\n",
      "  模式: random\n",
      "  每个事件 (event) 包含的总粒子数: 82\n",
      "  模拟事件数 (num_events/beamOn): 50\n",
      "  总模拟粒子数 (total particles): 4100\n",
      "  能谱详情:\n",
      "  - 类型: e-, 能量: 0.5 MeV, 权重: 24 (对应计数: 24)\n",
      "  - 类型: e-, 能量: 0.6 MeV, 权重: 25 (对应计数: 25)\n",
      "  - 类型: e-, 能量: 2.0 MeV, 权重: 12 (对应计数: 12)\n",
      "  - 类型: proton, 能量: 14.1 MeV, 权重: 10 (对应计数: 10)\n",
      "  - 类型: proton, 能量: 18.5 MeV, 权重: 11 (对应计数: 11)\n"
     ]
    },
    {
     "name": "stderr",
     "output_type": "stream",
     "text": [
      "运行: legacy_random_test_batch2_run8: 100%|██████████| 8/8 [00:15<00:00,  1.91s/run]\n"
     ]
    },
    {
     "name": "stdout",
     "output_type": "stream",
     "text": [
      "批量模拟完成! 成功: 8, 失败: 0. 详情请查看日志文件。\n",
      "\n",
      "发现8个root文件，开始处理...\n"
     ]
    },
    {
     "name": "stderr",
     "output_type": "stream",
     "text": [
      "处理root文件: 100%|██████████| 8/8 [00:00<00:00, 27.04file/s]"
     ]
    },
    {
     "name": "stdout",
     "output_type": "stream",
     "text": [
      "完成处理所有root文件！\n"
     ]
    },
    {
     "name": "stderr",
     "output_type": "stream",
     "text": [
      "\n"
     ]
    }
   ],
   "source": [
    "# 1. 清理旧数据 (可选) \n",
    "clear_data_directories() \n",
    "\n",
    "# 2. 定义模拟配置列表 \n",
    "\n",
    "# 配置 1: Range Mode (自定义源) \n",
    "config_range = { \n",
    "    'mode': 'range',             # 模式: 能量范围 + 随机粒子数 \n",
    "    'profile': 'electron_range_sim', # 文件名前缀 \n",
    "    'gps_mode': 'custom',        # 使用自定义 /gps/my_source/add \n",
    "    'num_events': 20,           # Geant4 /run/beamOn 次数 \n",
    "\n",
    "    # 电子配置 \n",
    "    'E_e': [0.1, 2.0],           # 电子能量范围 [min, max] MeV \n",
    "    'delta_E_e': 0.2,            # 电子能量步长 MeV \n",
    "    'N_e_once_min': 5,           # 每个能量点单次事件最少电子数 \n",
    "    'N_e_once_max': 15,          # 每个能量点单次事件最多电子数 \n",
    "\n",
    "    # 质子配置 (可选) \n",
    "    'E_p': [5.0, 10.0], \n",
    "    'delta_E_p': 1.0, \n",
    "    'N_p_once_min': 0, \n",
    "    'N_p_once_max': 1, \n",
    "} \n",
    "\n",
    "# 配置 2: Weighted Mode (原生 GPS) \n",
    "config_weighted = { \n",
    "    'mode': 'weighted',          # 模式: 指定能量点 + 权重 \n",
    "    'profile': 'proton_weighted_sim', # 文件名前缀 \n",
    "    'gps_mode': 'native',        # 使用原生 /gps/source/add \n",
    "    'num_events': 500,           # Geant4 /run/beamOn 次数 \n",
    "                                 # 注意：原生模式下，总粒子数与权重和num_events相关 \n",
    "\n",
    "    # 电子配置\n",
    "    'E_e': [0.5,1, 1.5,2], \n",
    "    'weights_e': [8,2.0, 1.0,3], \n",
    "    'N_e_once_min': 50,          # 权重最小 (1.0) 的能量点对应的基础粒子数基准 \n",
    "} \n",
    "\n",
    "# 配置 3: Single Particle Mode (方便调试或特定测试) \n",
    "config_single = { \n",
    "    'mode': 'single', \n",
    "    'profile': 'single_gamma_1MeV', \n",
    "    'gps_mode': 'custom', # 或者 'native' \n",
    "    'num_events': 1000, \n",
    "    'particle': 'gamma', \n",
    "    'energy': 1.0,        # MeV \n",
    "    'count': 1            # 每个事件产生1个该粒子 \n",
    "} \n",
    "\n",
    "# 配置 4: 旧版随机能谱模式 (通过嵌套配置) \n",
    "config_random_legacy = { \n",
    "    'mode': 'random', # 使用新的包装器模式 \n",
    "    'profile': 'legacy_random_test', \n",
    "    'gps_mode': 'custom', # 或 'native' \n",
    "    'num_events': 50, \n",
    "    'random_config': { # 嵌套旧的随机生成器配置 \n",
    "        'e_energy_min': 0.5, \n",
    "        'e_energy_max': 3.0, \n",
    "        'e_types_min': 2, \n",
    "        'e_types_max': 3, \n",
    "        'p_types_min': 1, \n",
    "        'p_types_max': 2, \n",
    "        'g_types_min': 0, # 不生成伽马 \n",
    "        'g_types_max': 0, \n",
    "        'use_gamma': False, \n",
    "        'e_count_min': 10, \n",
    "        'e_count_max': 25, \n",
    "        'p_count_min': 5, \n",
    "        'p_count_max': 15, \n",
    "        # 'nums' is implicitly handled by top-level 'num_events' \n",
    "    } \n",
    "} \n",
    "\n",
    "# 3. 设置批量运行参数 \n",
    "simulation_configs = [config_range, config_weighted, config_single, config_random_legacy] # 要运行的配置列表 \n",
    "runs_per_config = 2  # 每个配置运行多少次 (Batch size) \n",
    "\n",
    "# 4. 运行批量模拟 \n",
    "run_batch_simulations(simulation_configs, runs_per_config) \n",
    "\n",
    "# 5. (可选) 结束后处理所有生成的 ROOT 文件 (如果之前有失败或需要重新处理) \n",
    "\n",
    "\n",
    "process_all_root_files()"
   ]
  },
  {
   "cell_type": "code",
   "execution_count": 3,
   "metadata": {},
   "outputs": [
    {
     "name": "stderr",
     "output_type": "stream",
     "text": [
      "运行: electron_range_sim_batch1_run1:   0%|          | 0/8 [00:00<?, ?run/s]"
     ]
    },
    {
     "name": "stdout",
     "output_type": "stream",
     "text": [
      "配置 'electron_range_sim_20250405170950_1':\n",
      "  模式: range\n",
      "  每个事件 (event) 包含的总粒子数: 90\n",
      "  模拟事件数 (num_events/beamOn): 100\n",
      "  总模拟粒子数 (total particles): 9000\n",
      "  能谱详情:\n",
      "  - 类型: e-, 能量: 0.1 MeV, 权重: 5 (对应计数: 5)\n",
      "  - 类型: e-, 能量: 0.3 MeV, 权重: 10 (对应计数: 10)\n",
      "  - 类型: e-, 能量: 0.5 MeV, 权重: 11 (对应计数: 11)\n",
      "  - 类型: e-, 能量: 0.7 MeV, 权重: 6 (对应计数: 6)\n",
      "  - 类型: e-, 能量: 0.9 MeV, 权重: 14 (对应计数: 14)\n",
      "  - 类型: e-, 能量: 1.1 MeV, 权重: 7 (对应计数: 7)\n",
      "  - 类型: e-, 能量: 1.3 MeV, 权重: 7 (对应计数: 7)\n",
      "  - 类型: e-, 能量: 1.5 MeV, 权重: 10 (对应计数: 10)\n",
      "  - 类型: e-, 能量: 1.7 MeV, 权重: 7 (对应计数: 7)\n",
      "  - 类型: e-, 能量: 1.9 MeV, 权重: 13 (对应计数: 13)\n"
     ]
    },
    {
     "name": "stderr",
     "output_type": "stream",
     "text": [
      "运行: electron_range_sim_batch2_run2:  12%|█▎        | 1/8 [00:02<00:16,  2.33s/run]"
     ]
    },
    {
     "name": "stdout",
     "output_type": "stream",
     "text": [
      "配置 'electron_range_sim_20250405170952_2':\n",
      "  模式: range\n",
      "  每个事件 (event) 包含的总粒子数: 92\n",
      "  模拟事件数 (num_events/beamOn): 100\n",
      "  总模拟粒子数 (total particles): 9200\n",
      "  能谱详情:\n",
      "  - 类型: e-, 能量: 0.1 MeV, 权重: 6 (对应计数: 6)\n",
      "  - 类型: e-, 能量: 0.3 MeV, 权重: 9 (对应计数: 9)\n",
      "  - 类型: e-, 能量: 0.5 MeV, 权重: 15 (对应计数: 15)\n",
      "  - 类型: e-, 能量: 0.7 MeV, 权重: 11 (对应计数: 11)\n",
      "  - 类型: e-, 能量: 0.9 MeV, 权重: 6 (对应计数: 6)\n",
      "  - 类型: e-, 能量: 1.1 MeV, 权重: 9 (对应计数: 9)\n",
      "  - 类型: e-, 能量: 1.3 MeV, 权重: 11 (对应计数: 11)\n",
      "  - 类型: e-, 能量: 1.5 MeV, 权重: 6 (对应计数: 6)\n",
      "  - 类型: e-, 能量: 1.7 MeV, 权重: 12 (对应计数: 12)\n",
      "  - 类型: e-, 能量: 1.9 MeV, 权重: 7 (对应计数: 7)\n"
     ]
    },
    {
     "name": "stderr",
     "output_type": "stream",
     "text": [
      "运行: proton_weighted_sim_batch1_run3:  25%|██▌       | 2/8 [00:04<00:12,  2.13s/run]"
     ]
    },
    {
     "name": "stdout",
     "output_type": "stream",
     "text": [
      "配置 'proton_weighted_sim_20250405170954_1':\n",
      "  模式: weighted\n",
      "  每个事件 (event) 包含的总粒子数: 700\n",
      "  模拟事件数 (num_events/beamOn): 500\n",
      "  总模拟粒子数 (total particles): 350000\n",
      "  能谱详情:\n",
      "  - 类型: e-, 能量: 0.5 MeV, 权重: 8 (对应计数: 400)\n",
      "  - 类型: e-, 能量: 1.0 MeV, 权重: 2.0 (对应计数: 100)\n",
      "  - 类型: e-, 能量: 1.5 MeV, 权重: 1.0 (对应计数: 50)\n",
      "  - 类型: e-, 能量: 2.0 MeV, 权重: 3 (对应计数: 150)\n"
     ]
    },
    {
     "name": "stderr",
     "output_type": "stream",
     "text": [
      "运行: proton_weighted_sim_batch2_run4:  38%|███▊      | 3/8 [00:06<00:10,  2.00s/run]"
     ]
    },
    {
     "name": "stdout",
     "output_type": "stream",
     "text": [
      "配置 'proton_weighted_sim_20250405170956_2':\n",
      "  模式: weighted\n",
      "  每个事件 (event) 包含的总粒子数: 700\n",
      "  模拟事件数 (num_events/beamOn): 500\n",
      "  总模拟粒子数 (total particles): 350000\n",
      "  能谱详情:\n",
      "  - 类型: e-, 能量: 0.5 MeV, 权重: 8 (对应计数: 400)\n",
      "  - 类型: e-, 能量: 1.0 MeV, 权重: 2.0 (对应计数: 100)\n",
      "  - 类型: e-, 能量: 1.5 MeV, 权重: 1.0 (对应计数: 50)\n",
      "  - 类型: e-, 能量: 2.0 MeV, 权重: 3 (对应计数: 150)\n"
     ]
    },
    {
     "name": "stderr",
     "output_type": "stream",
     "text": [
      "运行: single_gamma_1MeV_batch1_run5:  50%|█████     | 4/8 [00:07<00:07,  1.93s/run]  "
     ]
    },
    {
     "name": "stdout",
     "output_type": "stream",
     "text": [
      "配置 'single_gamma_1MeV_20250405170958_1':\n",
      "  模式: single\n",
      "  每个事件 (event) 包含的总粒子数: 1\n",
      "  模拟事件数 (num_events/beamOn): 1000\n",
      "  总模拟粒子数 (total particles): 1000\n",
      "  能谱详情:\n",
      "  - 类型: gamma, 能量: 1.0 MeV, 权重: 1 (对应计数: 1)\n"
     ]
    },
    {
     "name": "stderr",
     "output_type": "stream",
     "text": [
      "运行: single_gamma_1MeV_batch2_run6:  62%|██████▎   | 5/8 [00:09<00:05,  1.90s/run]"
     ]
    },
    {
     "name": "stdout",
     "output_type": "stream",
     "text": [
      "配置 'single_gamma_1MeV_20250405171000_2':\n",
      "  模式: single\n",
      "  每个事件 (event) 包含的总粒子数: 1\n",
      "  模拟事件数 (num_events/beamOn): 1000\n",
      "  总模拟粒子数 (total particles): 1000\n",
      "  能谱详情:\n",
      "  - 类型: gamma, 能量: 1.0 MeV, 权重: 1 (对应计数: 1)\n"
     ]
    },
    {
     "name": "stderr",
     "output_type": "stream",
     "text": [
      "运行: legacy_random_test_batch1_run7:  75%|███████▌  | 6/8 [00:11<00:03,  1.87s/run]"
     ]
    },
    {
     "name": "stdout",
     "output_type": "stream",
     "text": [
      "警告: num_events (50) 少于推荐值100，可能影响多线程效率。\n",
      "配置 'legacy_random_test_20250405171002_1':\n",
      "  模式: random\n",
      "  每个事件 (event) 包含的总粒子数: 48\n",
      "  模拟事件数 (num_events/beamOn): 50\n",
      "  总模拟粒子数 (total particles): 2400\n",
      "  能谱详情:\n",
      "  - 类型: e-, 能量: 1.5 MeV, 权重: 16 (对应计数: 16)\n",
      "  - 类型: e-, 能量: 2.5 MeV, 权重: 17 (对应计数: 17)\n",
      "  - 类型: proton, 能量: 11.4 MeV, 权重: 15 (对应计数: 15)\n"
     ]
    },
    {
     "name": "stderr",
     "output_type": "stream",
     "text": [
      "运行: legacy_random_test_batch2_run8:  88%|████████▊ | 7/8 [00:13<00:01,  1.86s/run]"
     ]
    },
    {
     "name": "stdout",
     "output_type": "stream",
     "text": [
      "警告: num_events (50) 少于推荐值100，可能影响多线程效率。\n",
      "配置 'legacy_random_test_20250405171003_2':\n",
      "  模式: random\n",
      "  每个事件 (event) 包含的总粒子数: 51\n",
      "  模拟事件数 (num_events/beamOn): 50\n",
      "  总模拟粒子数 (total particles): 2550\n",
      "  能谱详情:\n",
      "  - 类型: e-, 能量: 0.5 MeV, 权重: 20 (对应计数: 20)\n",
      "  - 类型: e-, 能量: 2.1 MeV, 权重: 11 (对应计数: 11)\n",
      "  - 类型: proton, 能量: 17.5 MeV, 权重: 11 (对应计数: 11)\n",
      "  - 类型: proton, 能量: 17.8 MeV, 权重: 9 (对应计数: 9)\n"
     ]
    },
    {
     "name": "stderr",
     "output_type": "stream",
     "text": [
      "运行: legacy_random_test_batch2_run8: 100%|██████████| 8/8 [00:15<00:00,  1.92s/run]"
     ]
    },
    {
     "name": "stdout",
     "output_type": "stream",
     "text": [
      "批量模拟完成! 成功: 8, 失败: 0. 详情请查看日志文件。\n"
     ]
    },
    {
     "name": "stderr",
     "output_type": "stream",
     "text": [
      "\n"
     ]
    }
   ],
   "source": [
    "clear_data_directories() \n",
    "\n",
    "# 配置 1: Range Mode (自定义源) \n",
    "config_range = { \n",
    "    'mode': 'range',             # 模式: 能量范围 + 随机粒子数 \n",
    "    'profile': 'electron_range_sim', # 文件名前缀 \n",
    "    'gps_mode': 'custom',        # 使用自定义 /gps/my_source/add \n",
    "    'num_events': 100,           # Geant4 /run/beamOn 次数 \n",
    "\n",
    "    # 电子配置 \n",
    "    'E_e': [0.1, 2.0],           # 电子能量范围 [min, max] MeV \n",
    "    'delta_E_e': 0.2,            # 电子能量步长 MeV \n",
    "    'N_e_once_min': 5,           # 每个能量点单次事件最少电子数 \n",
    "    'N_e_once_max': 15,          # 每个能量点单次事件最多电子数 \n",
    "} \n",
    "\n",
    "simulation_configs = [config_range] # 要运行的配置列表 \n",
    "runs_per_config = 2  # 每个配置运行多少次 (Batch size) \n",
    "\n",
    "# 运行批量模拟 \n",
    "run_batch_simulations(simulation_configs, runs_per_config) "
   ]
  },
  {
   "cell_type": "code",
   "execution_count": null,
   "metadata": {},
   "outputs": [],
   "source": []
  }
 ],
 "metadata": {
  "kernelspec": {
   "display_name": "Python 3",
   "language": "python",
   "name": "python3"
  },
  "language_info": {
   "codemirror_mode": {
    "name": "ipython",
    "version": 3
   },
   "file_extension": ".py",
   "mimetype": "text/x-python",
   "name": "python",
   "nbconvert_exporter": "python",
   "pygments_lexer": "ipython3",
   "version": "3.8.10"
  }
 },
 "nbformat": 4,
 "nbformat_minor": 2
}
